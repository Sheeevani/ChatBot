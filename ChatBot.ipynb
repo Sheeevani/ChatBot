{
  "nbformat": 4,
  "nbformat_minor": 0,
  "metadata": {
    "colab": {
      "provenance": []
    },
    "kernelspec": {
      "name": "python3",
      "display_name": "Python 3"
    },
    "language_info": {
      "name": "python"
    }
  },
  "cells": [
    {
      "cell_type": "code",
      "execution_count": 6,
      "metadata": {
        "id": "ruGhH5wXQ77j"
      },
      "outputs": [],
      "source": [
        "import random"
      ]
    },
    {
      "cell_type": "code",
      "source": [
        "var1=['hi','hello','namaste','asalam waliqum']\n",
        "var2=['how are you', 'how are you doing', 'how you doing','kya kar rahe hai aap','how is your health','how was your day dear']\n",
        "var3=['what is your name', 'how do i call you ','your name please ']\n",
        "var4=['what should i learn','programming language']\n",
        "var5=['what are your hobbies','hobbies','what do you do in free time ']\n"
      ],
      "metadata": {
        "id": "lxKoL0kuT2yT"
      },
      "execution_count": 7,
      "outputs": []
    },
    {
      "cell_type": "code",
      "source": [
        "while True:\n",
        "    user_input=input(\"Sheevani said to bot : \")\n",
        "    if user_input.lower() in var1:\n",
        "      bot1=['hello','namaste','asalam waliqum','hi']\n",
        "      print('Bot replied to Sheevani : '+ random.choice(bot1))\n",
        "    elif user_input.lower() in var2:\n",
        "      bot2=['I am good, how are you dear','mai achi hu, aap kaise hai','I am doing good']\n",
        "      print('Bot replied to Sheevani : '+ random.choice(bot2))\n",
        "    elif user_input.lower() in var3:\n",
        "      bot3=['Call me Chatterbot','Chatterbot','My name is Chatterbot']\n",
        "      print('Bot replied to Sheevani : '+ random.choice(bot3))\n",
        "    elif user_input.lower() in var4:\n",
        "      bot4=['python','python programming language']\n",
        "      print('Bot replied to Sheevani : '+ random.choice(bot4))\n",
        "    elif user_input.lower() in var5:\n",
        "      bot5=['baatein karna acha lagta hai','love to chat','i enjoy chatting']\n",
        "      print('Bot replied to Sheevani : '+ random.choice(bot5))\n",
        "    elif user_input.lower() == 'quit':\n",
        "        print('Bot: Goodbye! Have a great day.')\n",
        "        break\n",
        "    else:\n",
        "      print('Bot replied to Sheevani : '+'Sorry what are you asking, i am not getting')\n"
      ],
      "metadata": {
        "colab": {
          "base_uri": "https://localhost:8080/"
        },
        "id": "qmw2rhtYTzrU",
        "outputId": "e55ca450-de0b-4b1b-a322-b204b4618309"
      },
      "execution_count": 9,
      "outputs": [
        {
          "output_type": "stream",
          "name": "stdout",
          "text": [
            "Sheevani said to bot : HI\n",
            "Bot replied to Sheevani : namaste\n",
            "Sheevani said to bot : quit\n",
            "Bot: Goodbye! Have a great day.\n"
          ]
        }
      ]
    }
  ]
}